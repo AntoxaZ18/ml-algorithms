{
 "cells": [
  {
   "cell_type": "markdown",
   "metadata": {},
   "source": [
    "Домашнее задание по теории вероятности. Зайцев А.Н."
   ]
  },
  {
   "cell_type": "markdown",
   "metadata": {},
   "source": [
    "Задача 1\n",
    "В ящике находится 15 качественных и 5 бракованных деталей. Наудачу извлекаются 2 детали. \n",
    "Найти вероятность того, что:\n",
    "а) обе детали будут качественными; \n",
    "б) одна деталь будет качественной, а одна –бракованной; \n",
    "в) обе детали бракованны"
   ]
  },
  {
   "cell_type": "code",
   "execution_count": 31,
   "metadata": {},
   "outputs": [
    {
     "name": "stdout",
     "output_type": "stream",
     "text": [
      "Вероятность достать 2 качественные детали: 0.55\n",
      "Вероятность достать одну качественную и одну бракованную: 0.39\n",
      "Вероятность достать обе бракованные: 0.05\n"
     ]
    }
   ],
   "source": [
    "from math import factorial\n",
    "\n",
    "quality_parts = 15    #количество качественных деталей\n",
    "defective_parts = 5   #количество бракованных \n",
    "total = quality_parts + defective_parts #общее число деталей\n",
    "samples = 2 #количество деталей в выборке\n",
    "\n",
    "def combinations(total: int, samples: int) -> float:\n",
    "    '''function return amount of combinations calc with formula total! / (samples! * (total - samples)!)\n",
    "        total - total amount of samples\n",
    "        samples - amount of samples\n",
    "    '''\n",
    "\n",
    "    return factorial(total) / (factorial(samples) * factorial(total - samples))\n",
    "\n",
    "# общее число исходов\n",
    "total_c = combinations(total, samples)\n",
    "\n",
    "#Число исходов когда 2 хорошие в выборке\n",
    "quality_2 = combinations(quality_parts, samples)\n",
    "print(f'Вероятность достать 2 качественные детали: {(quality_2) / total_c:.2f}')\n",
    "\n",
    "#1 брак и 1 хорошая в выборке\n",
    "quality_choices = combinations(quality_parts, 1)\n",
    "defective_choices = combinations(defective_parts, 1)\n",
    "print(f'Вероятность достать одну качественную и одну бракованную: {(quality_choices * defective_choices) / total_c:.2f}')\n",
    "\n",
    "#Обе бракованные в выборке\n",
    "defective_choices = combinations(defective_parts, samples)\n",
    "print(f'Вероятность достать обе бракованные: {(defective_choices) / total_c:.2f}')\n"
   ]
  },
  {
   "cell_type": "markdown",
   "metadata": {},
   "source": [
    "Задача 2\n",
    "При рентгеновском обследовании вероятность обнаружить заболевание туберкулезом у больного туберкулезом равна 0.9,\n",
    "вероятность принять здорового человека за больного равна 0.01. Доля больных туберкулезом по отношению ко всему населению равна 0.001. \n",
    "Найти вероятность того, что человек здоров, если он был признан больным при обследовании."
   ]
  },
  {
   "cell_type": "code",
   "execution_count": 29,
   "metadata": {},
   "outputs": [
    {
     "name": "stdout",
     "output_type": "stream",
     "text": [
      "Вероятность что человек здоров при положительном тесте 0.91736\n"
     ]
    }
   ],
   "source": [
    "#A - событие диагностирован туберкулез\n",
    "#B1 - событие человек здоров\n",
    "#В2 - событие человек болен\n",
    "\n",
    "\n",
    "p_AB2 = 0.9 #вероятность обнаружить туберкулез у больного\n",
    "p_AB1 = 0.01 #вероятность обнаружить туберкулез у здорового\n",
    "p_B2 = 0.001 #Доля больных туберкулезом по отношению ко всему населению\n",
    "p_B1 = 1 - p_B2  # Доля здоровых людей в целом\n",
    "\n",
    "#Находим вероятность диагностики туберкулеза в общем случае\n",
    "p_A = p_AB1 * p_B1 + p_AB2 * p_B2\n",
    "\n",
    "#Условная вероятность что человек здоров при положительном тесте\n",
    "p_B1A = p_AB1 * p_B1 / p_A\n",
    "\n",
    "print(f'Вероятность что человек здоров при положительном тесте {p_B1A:.5f}')"
   ]
  },
  {
   "cell_type": "markdown",
   "metadata": {},
   "source": [
    "Задача 3\n",
    "Известно, что случайная величина «время до наступления отказа исследуемых изделий» подчиняется логнормальному распределению (lognorm)\n",
    "с параметрами loc=0, scale=5, s=0.5. \n",
    "Требуется построить графики функции плотностии функции распределения, найти математическое ожидание,дисперсиюи время безотказной работы с вероятностью 0.9(квантиль уровня 0.1)."
   ]
  },
  {
   "cell_type": "code",
   "execution_count": 28,
   "metadata": {},
   "outputs": [
    {
     "name": "stdout",
     "output_type": "stream",
     "text": [
      "Мат ожидание 5.6657 Дисперсия: 9.1174\n",
      "Время безотказной работы с вероятностью 0,9 (PPF): 2.6344\n",
      "Время безотказной работы с вероятностью 0,9 (Numpy quantile): 2.6338\n"
     ]
    },
    {
     "data": {
      "text/plain": [
       "[<matplotlib.lines.Line2D at 0x2cd3db49ac0>]"
      ]
     },
     "execution_count": 28,
     "metadata": {},
     "output_type": "execute_result"
    },
    {
     "data": {
      "image/png": "[encoded data removed]",
      "text/plain": [
       "<Figure size 432x288 with 1 Axes>"
      ]
     },
     "metadata": {
      "needs_background": "light"
     },
     "output_type": "display_data"
    }
   ],
   "source": [
    "from scipy.stats import lognorm\n",
    "import matplotlib.pyplot as plt\n",
    "import numpy as np\n",
    "\n",
    "#фиксируем random seed для повторяемости экспериментов\n",
    "np.random.seed(42)\n",
    "\n",
    "#параметры распределения\n",
    "loc = 0\n",
    "scale = 5\n",
    "s = 0.5\n",
    "\n",
    "#создаем распределение с заданными параметрами\n",
    "rv = lognorm(loc = loc, scale = scale, s = s)\n",
    "\n",
    "#Рассчитываем мат ожидание (среднее значение (mean)) и дисперсию\n",
    "print(f'Мат ожидание {rv.mean():.4f} Дисперсия: {rv.var():.4f}')\n",
    "\n",
    "#создаем набор x из 100 точек для построения графика\n",
    "x = np.linspace(rv.ppf(0.001), rv.ppf(0.999), 100)\n",
    "\n",
    "#Рассчитываем значения функции плотность вероятности (PDF- Probability density function)\n",
    "y = rv.pdf(x)\n",
    "\n",
    "#Находим квантиль уровня 0,1 при помощи функции PPF (Percent point function)\n",
    "quant_10 = rv.ppf(0.1)\n",
    "print(f'Время безотказной работы с вероятностью 0,9 (PPF): {quant_10:.4f}')\n",
    "\n",
    "#Альтернативный способ через numpy\n",
    "#формируем выборку из 1М элементов и считаем квантиль при помощи numpy\n",
    "print(f'Время безотказной работы с вероятностью 0,9 (Numpy quantile): {np.quantile(rv.rvs(size = 1000000), 0.1):.4f}')\n",
    "\n",
    "fig, ax = plt.subplots(1, 1)\n",
    "#Добавим линию квантиль 10 для наглядности \n",
    "ax.vlines(quant_10, 0, max(y), color='k', linestyle='-', lw=1)\n",
    "\n",
    "ax.plot(x, y, 'k-', lw=2, label='pdf')\n",
    "\n"
   ]
  }
 ],
 "metadata": {
  "kernelspec": {
   "display_name": "Python 3 (ipykernel)",
   "language": "python",
   "name": "python3"
  },
  "language_info": {
   "codemirror_mode": {
    "name": "ipython",
    "version": 3
   },
   "file_extension": ".py",
   "mimetype": "text/x-python",
   "name": "python",
   "nbconvert_exporter": "python",
   "pygments_lexer": "ipython3",
   "version": "3.9.1"
  }
 },
 "nbformat": 4,
 "nbformat_minor": 2
}
