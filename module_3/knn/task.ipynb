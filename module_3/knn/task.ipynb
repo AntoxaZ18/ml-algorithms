{
 "cells": [
  {
   "cell_type": "code",
   "execution_count": 13,
   "metadata": {},
   "outputs": [
    {
     "data": {
      "text/html": [
       "<div>\n",
       "<style scoped>\n",
       "    .dataframe tbody tr th:only-of-type {\n",
       "        vertical-align: middle;\n",
       "    }\n",
       "\n",
       "    .dataframe tbody tr th {\n",
       "        vertical-align: top;\n",
       "    }\n",
       "\n",
       "    .dataframe thead th {\n",
       "        text-align: right;\n",
       "    }\n",
       "</style>\n",
       "<table border=\"1\" class=\"dataframe\">\n",
       "  <thead>\n",
       "    <tr style=\"text-align: right;\">\n",
       "      <th></th>\n",
       "      <th>gravity</th>\n",
       "      <th>ph</th>\n",
       "      <th>osmo</th>\n",
       "      <th>cond</th>\n",
       "      <th>urea</th>\n",
       "      <th>calc</th>\n",
       "      <th>target</th>\n",
       "    </tr>\n",
       "    <tr>\n",
       "      <th>id</th>\n",
       "      <th></th>\n",
       "      <th></th>\n",
       "      <th></th>\n",
       "      <th></th>\n",
       "      <th></th>\n",
       "      <th></th>\n",
       "      <th></th>\n",
       "    </tr>\n",
       "  </thead>\n",
       "  <tbody>\n",
       "    <tr>\n",
       "      <th>57</th>\n",
       "      <td>1.021</td>\n",
       "      <td>5.35</td>\n",
       "      <td>774</td>\n",
       "      <td>23.6</td>\n",
       "      <td>301</td>\n",
       "      <td>6.99</td>\n",
       "      <td>1</td>\n",
       "    </tr>\n",
       "    <tr>\n",
       "      <th>349</th>\n",
       "      <td>1.018</td>\n",
       "      <td>5.71</td>\n",
       "      <td>703</td>\n",
       "      <td>23.6</td>\n",
       "      <td>272</td>\n",
       "      <td>6.63</td>\n",
       "      <td>0</td>\n",
       "    </tr>\n",
       "    <tr>\n",
       "      <th>356</th>\n",
       "      <td>1.024</td>\n",
       "      <td>5.53</td>\n",
       "      <td>866</td>\n",
       "      <td>29.0</td>\n",
       "      <td>360</td>\n",
       "      <td>5.54</td>\n",
       "      <td>1</td>\n",
       "    </tr>\n",
       "    <tr>\n",
       "      <th>353</th>\n",
       "      <td>1.020</td>\n",
       "      <td>5.27</td>\n",
       "      <td>803</td>\n",
       "      <td>26.0</td>\n",
       "      <td>178</td>\n",
       "      <td>3.04</td>\n",
       "      <td>1</td>\n",
       "    </tr>\n",
       "    <tr>\n",
       "      <th>90</th>\n",
       "      <td>1.017</td>\n",
       "      <td>6.19</td>\n",
       "      <td>364</td>\n",
       "      <td>23.6</td>\n",
       "      <td>297</td>\n",
       "      <td>12.68</td>\n",
       "      <td>1</td>\n",
       "    </tr>\n",
       "  </tbody>\n",
       "</table>\n",
       "</div>"
      ],
      "text/plain": [
       "     gravity    ph  osmo  cond  urea   calc  target\n",
       "id                                                 \n",
       "57     1.021  5.35   774  23.6   301   6.99       1\n",
       "349    1.018  5.71   703  23.6   272   6.63       0\n",
       "356    1.024  5.53   866  29.0   360   5.54       1\n",
       "353    1.020  5.27   803  26.0   178   3.04       1\n",
       "90     1.017  6.19   364  23.6   297  12.68       1"
      ]
     },
     "execution_count": 13,
     "metadata": {},
     "output_type": "execute_result"
    }
   ],
   "source": [
    "import pandas as pd\n",
    "import numpy as np\n",
    "\n",
    "\n",
    "df = pd.read_csv('train.csv', index_col='id')\n",
    "\n",
    "#пример данных\n",
    "df.sample(5)"
   ]
  },
  {
   "cell_type": "code",
   "execution_count": null,
   "metadata": {},
   "outputs": [
    {
     "name": "stdout",
     "output_type": "stream",
     "text": [
      "numeric: , gravity, ph, osmo, cond, urea, calc, target\n",
      "categoric: \n"
     ]
    }
   ],
   "source": [
    "\n",
    "numeric_data = df.select_dtypes(include=np.number).columns.tolist()\n",
    "categoric_data = df.select_dtypes(include=['object', 'category']).columns.tolist()\n",
    "\n",
    "print('numeric: ', *numeric_data, sep = ', ')\n",
    "print('categoric: ', *categoric_data)\n"
   ]
  },
  {
   "cell_type": "markdown",
   "metadata": {},
   "source": [
    "В датасете нет категориальных данных, только таргет"
   ]
  },
  {
   "cell_type": "code",
   "execution_count": 27,
   "metadata": {},
   "outputs": [
    {
     "name": "stdout",
     "output_type": "stream",
     "text": [
      "gravity: Nan: 0, Null: 0 Zero: 0\n",
      "ph: Nan: 0, Null: 0 Zero: 0\n",
      "osmo: Nan: 0, Null: 0 Zero: 0\n",
      "cond: Nan: 0, Null: 0 Zero: 0\n",
      "urea: Nan: 0, Null: 0 Zero: 0\n",
      "calc: Nan: 0, Null: 0 Zero: 0\n",
      "target: Nan: 0, Null: 0 Zero: 230\n"
     ]
    }
   ],
   "source": [
    "#Подсчитаем количество пропусков и нулевых значений\n",
    "for col in numeric_data:\n",
    "    nan_count = df[col].isna().sum()\n",
    "    null_count = df[col].isnull().sum()\n",
    "    zero_count = (df[col] == 0).sum()\n",
    "    \n",
    "    print(f'{col}: Nan: {nan_count}, Null: {null_count} Zero: {zero_count}')\n"
   ]
  },
  {
   "cell_type": "markdown",
   "metadata": {},
   "source": [
    "Данные не имеют пропусков и нулевых значений, нет необходимости обработки пропусков"
   ]
  },
  {
   "cell_type": "markdown",
   "metadata": {},
   "source": []
  },
  {
   "cell_type": "code",
   "execution_count": null,
   "metadata": {},
   "outputs": [
    {
     "name": "stdout",
     "output_type": "stream",
     "text": [
      "          gravity          ph         osmo        cond        urea  \\\n",
      "count  414.000000  414.000000   414.000000  414.000000  414.000000   \n",
      "mean     1.017894    5.955459   651.545894   21.437923  278.657005   \n",
      "std      0.006675    0.642260   234.676567    7.514750  136.442249   \n",
      "min      1.005000    4.760000   187.000000    5.100000   10.000000   \n",
      "10%      1.008000    5.330000   343.600000   10.900000   95.000000   \n",
      "25%      1.012000    5.530000   455.250000   15.500000  170.000000   \n",
      "50%      1.018000    5.740000   679.500000   22.200000  277.000000   \n",
      "75%      1.022000    6.280000   840.000000   27.600000  385.000000   \n",
      "90%      1.025000    6.810000   925.200000   29.000000  443.000000   \n",
      "max      1.040000    7.940000  1236.000000   38.000000  620.000000   \n",
      "\n",
      "             calc      target  \n",
      "count  414.000000  414.000000  \n",
      "mean     4.114638    0.444444  \n",
      "std      3.217641    0.497505  \n",
      "min      0.170000    0.000000  \n",
      "10%      1.053000    0.000000  \n",
      "25%      1.450000    0.000000  \n",
      "50%      3.130000    0.000000  \n",
      "75%      6.630000    1.000000  \n",
      "90%      8.515000    1.000000  \n",
      "max     14.340000    1.000000  \n"
     ]
    }
   ],
   "source": [
    "\"Основные статистические показатели для числовых данных:\"\n",
    "print(df.describe(percentiles=[0.1, 0.25, 0.5, 0.75, 0.9]))"
   ]
  },
  {
   "cell_type": "code",
   "execution_count": null,
   "metadata": {},
   "outputs": [],
   "source": [
    "#Добавим графики распределения данных\n",
    "#Добавить графики корреляции числовых признаков между собой (если большая корреляция то часть колонок можно удалить)\n",
    "#Добавить scatterplot "
   ]
  },
  {
   "cell_type": "markdown",
   "metadata": {},
   "source": [
    "Таргет является категориальной колонкой. Изучим ее\n"
   ]
  },
  {
   "cell_type": "code",
   "execution_count": 30,
   "metadata": {},
   "outputs": [
    {
     "name": "stdout",
     "output_type": "stream",
     "text": [
      "target: Total: 414 NaN: 0, Null: 0, Zero: 230, Unique: 2\n"
     ]
    }
   ],
   "source": [
    "\n",
    "col = 'target'\n",
    "\n",
    "nan_count = df[col].isna().sum()\n",
    "null_count = df[col].isnull().sum()\n",
    "zero_count = (df[col] == 0).sum()\n",
    "unique_count = df[col].nunique()\n",
    "total = df[col].count()\n",
    "print(f\"{col}: Total: {total} NaN: {nan_count}, Null: {null_count}, Zero: {zero_count}, Unique: {unique_count}\")\n"
   ]
  },
  {
   "cell_type": "markdown",
   "metadata": {},
   "source": [
    "Все данные без пропусков, количество уникальных значений - 2, таким образом задача сводится к бинарной классификации.\n",
    "Количество классов 0 - 230\n",
    "Количество классов 1 - 194\n",
    "Классы сбалансированы, нет необходимости в коррекции дисбаланса."
   ]
  },
  {
   "cell_type": "code",
   "execution_count": null,
   "metadata": {},
   "outputs": [],
   "source": []
  }
 ],
 "metadata": {
  "kernelspec": {
   "display_name": ".venv",
   "language": "python",
   "name": "python3"
  },
  "language_info": {
   "codemirror_mode": {
    "name": "ipython",
    "version": 3
   },
   "file_extension": ".py",
   "mimetype": "text/x-python",
   "name": "python",
   "nbconvert_exporter": "python",
   "pygments_lexer": "ipython3",
   "version": "3.9.1"
  }
 },
 "nbformat": 4,
 "nbformat_minor": 2
}
