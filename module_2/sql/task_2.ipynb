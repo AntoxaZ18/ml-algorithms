{
 "cells": [
  {
   "cell_type": "code",
   "execution_count": 1,
   "metadata": {},
   "outputs": [],
   "source": [
    "from pyspark.sql import SparkSession\n",
    "from pyspark.sql.functions import count, desc, sum, col, substring, asc\n",
    "\n",
    "spark = SparkSession \\\n",
    "    .builder \\\n",
    "    .appName(\"PySpark homework\") \\\n",
    "    .config(\"spark.jars\", \"postgresql-42.7.4.jar\") \\\n",
    "    .getOrCreate()\n",
    "\n",
    "DB_URL = 'jdbc:postgresql://localhost:5433/postgres'\n",
    "DB_USER = 'postgres'\n",
    "DB_PASSWORD = 'postgres'    #bad practice, better using env variable instead \n",
    "\n",
    "def load_df(db_url, user, password, db_table):\n",
    "    return spark.read \\\n",
    "    .format(\"jdbc\") \\\n",
    "    .option(\"url\", db_url) \\\n",
    "    .option(\"dbtable\", db_table) \\\n",
    "    .option(\"user\", user) \\\n",
    "    .option(\"password\", password) \\\n",
    "    .option(\"driver\", \"org.postgresql.Driver\") \\\n",
    "    .load()\n"
   ]
  },
  {
   "cell_type": "code",
   "execution_count": null,
   "metadata": {},
   "outputs": [
    {
     "name": "stdout",
     "output_type": "stream",
     "text": [
      "+--------------------+----------+\n",
      "|        product_name|brand_name|\n",
      "+--------------------+----------+\n",
      "|Electra Townie Or...|   Electra|\n",
      "|Electra Cruiser 1...|   Electra|\n",
      "|Electra Girl's Ha...|   Electra|\n",
      "|Electra Moto 1 - ...|   Electra|\n",
      "|Electra Townie Or...|   Electra|\n",
      "|Electra Townie Or...|   Electra|\n",
      "|Electra Cruiser 1...|   Electra|\n",
      "|Electra Girl's Ha...|   Electra|\n",
      "|Electra Girl's Ha...|   Electra|\n",
      "|Electra Townie Or...|   Electra|\n",
      "|Electra Townie Or...|   Electra|\n",
      "|Electra Townie Or...|   Electra|\n",
      "|Electra Townie Or...|   Electra|\n",
      "|Electra Amsterdam...|   Electra|\n",
      "|Electra Cruiser L...|   Electra|\n",
      "|Electra Cruiser L...|   Electra|\n",
      "|Electra Girl's Ha...|   Electra|\n",
      "|Electra Glam Punk...|   Electra|\n",
      "|Electra Amsterdam...|   Electra|\n",
      "|Electra Amsterdam...|   Electra|\n",
      "+--------------------+----------+\n",
      "only showing top 20 rows\n",
      "\n"
     ]
    }
   ],
   "source": [
    "# запрос,чтобы получить все названия продуктов и соответствующие им торговые марки (brand)\n",
    "df_products = load_df(DB_URL, DB_USER, DB_PASSWORD, 'products')\n",
    "df_brands = load_df(DB_URL, DB_USER, DB_PASSWORD, 'brands')\n",
    "\n",
    "df = df_products.join(df_brands, df_products.brand_id == df_brands.brand_id)\n",
    "\n",
    "df.select(df.product_name, df.brand_name).show()\n"
   ]
  },
  {
   "cell_type": "code",
   "execution_count": 7,
   "metadata": {},
   "outputs": [
    {
     "name": "stdout",
     "output_type": "stream",
     "text": [
      "+----------+---------+----------------+\n",
      "|first_name|last_name|      store_name|\n",
      "+----------+---------+----------------+\n",
      "|   Fabiola|  Jackson|Santa Cruz Bikes|\n",
      "|    Mireya| Copeland|Santa Cruz Bikes|\n",
      "|     Genna|  Serrano|Santa Cruz Bikes|\n",
      "|    Virgie|  Wiggins|Santa Cruz Bikes|\n",
      "|  Jannette|    David|   Baldwin Bikes|\n",
      "| Marcelene|    Boyer|   Baldwin Bikes|\n",
      "|    Venita|   Daniel|   Baldwin Bikes|\n",
      "|      Kali|   Vargas|   Rowlett Bikes|\n",
      "|     Layla|  Terrell|   Rowlett Bikes|\n",
      "|Bernardine|  Houston|   Rowlett Bikes|\n",
      "+----------+---------+----------------+\n",
      "\n"
     ]
    }
   ],
   "source": [
    "#запрос,чтобы найти всех активных сотрудников и наименования магазинов,в которых они работают\n",
    "df_staffs = load_df(DB_URL, DB_USER, DB_PASSWORD, 'staffs')\n",
    "df_stores = load_df(DB_URL, DB_USER, DB_PASSWORD, 'stores')\n",
    "\n",
    "df_staffs.join(df_stores, df_staffs.store_id == df_stores.store_id)\\\n",
    "    .where(df_staffs.active == 1)\\\n",
    "    .select(df_staffs.first_name, df_staffs.last_name, df_stores.store_name).show()"
   ]
  },
  {
   "cell_type": "code",
   "execution_count": 14,
   "metadata": {},
   "outputs": [
    {
     "name": "stdout",
     "output_type": "stream",
     "text": [
      "+----------+---------+--------------------+--------------+\n",
      "|first_name|last_name|               email|         phone|\n",
      "+----------+---------+--------------------+--------------+\n",
      "|     Julee|  Woodard|julee.woodard@yah...|          NULL|\n",
      "|   Jerlene|     Rios|jerlene.rios@yaho...|          NULL|\n",
      "|     Burma|  Summers|burma.summers@yah...|          NULL|\n",
      "|       Shu|     Mays|  shu.mays@gmail.com|          NULL|\n",
      "|     Leone|  Emerson|leone.emerson@msn...|          NULL|\n",
      "|   Lekisha|     Pope|lekisha.pope@msn.com|          NULL|\n",
      "|   Natosha|  Rowland|natosha.rowland@a...|          NULL|\n",
      "|     Cyndi|     Bush|cyndi.bush@gmail.com|          NULL|\n",
      "|     Cayla|  Johnson|cayla.johnson@msn...|          NULL|\n",
      "|    Melita|Dominguez|melita.dominguez@...|          NULL|\n",
      "|     Klara|      Kim| klara.kim@gmail.com|          NULL|\n",
      "|  Bettyann|   Acosta|bettyann.acosta@g...|(717) 746-6658|\n",
      "|   Daphine|   Willis|daphine.willis@ms...|          NULL|\n",
      "|    Regine|     Odom| regine.odom@msn.com|          NULL|\n",
      "|     Waldo|     Hart|waldo.hart@yahoo.com|          NULL|\n",
      "|    Eliseo|   Knight|eliseo.knight@msn...|          NULL|\n",
      "|      Rosa|   Kinney|rosa.kinney@yahoo...|          NULL|\n",
      "| Gabriella|    Jones|gabriella.jones@h...|          NULL|\n",
      "|    Sommer|  Hopkins|sommer.hopkins@gm...|          NULL|\n",
      "|     Ciera|     Webb|ciera.webb@yahoo.com|          NULL|\n",
      "+----------+---------+--------------------+--------------+\n",
      "only showing top 20 rows\n",
      "\n"
     ]
    }
   ],
   "source": [
    "#запрос,чтобы перечислить всех покупателей выбранного магазина с указанием их полных имен, электронной почты и номера телефона\n",
    "\n",
    "df_customers = load_df(DB_URL, DB_USER, DB_PASSWORD, 'customers')\n",
    "df_orders = load_df(DB_URL, DB_USER, DB_PASSWORD, 'orders')\n",
    "\n",
    "df_customers.join(df_orders, (df_customers.customer_id == df_orders.customer_id) & (df_orders.store_id == 2), 'inner')\\\n",
    "            .select(df_customers.first_name, df_customers.last_name, df_customers.email, df_customers.phone).show()"
   ]
  },
  {
   "cell_type": "code",
   "execution_count": 15,
   "metadata": {},
   "outputs": [
    {
     "name": "stdout",
     "output_type": "stream",
     "text": [
      "+-----------+--------+\n",
      "|category_id|count(1)|\n",
      "+-----------+--------+\n",
      "|          1|      59|\n",
      "|          6|      60|\n",
      "|          3|      78|\n",
      "|          5|      24|\n",
      "|          4|      10|\n",
      "|          7|      60|\n",
      "|          2|      30|\n",
      "+-----------+--------+\n",
      "\n"
     ]
    }
   ],
   "source": [
    "# запрос для подсчета количества продуктов в каждой категории\n",
    "df_products = load_df(DB_URL, DB_USER, DB_PASSWORD, 'products')\n",
    "\n",
    "df_products.groupby(df_products.category_id).agg(count('*')).show()"
   ]
  },
  {
   "cell_type": "code",
   "execution_count": 17,
   "metadata": {},
   "outputs": [
    {
     "name": "stdout",
     "output_type": "stream",
     "text": [
      "+-----------+---------------+\n",
      "|customer_id|customer_orders|\n",
      "+-----------+---------------+\n",
      "|         13|              3|\n",
      "|         24|              3|\n",
      "|         16|              3|\n",
      "|          1|              3|\n",
      "|          6|              3|\n",
      "|         12|              3|\n",
      "|          3|              3|\n",
      "|         15|              3|\n",
      "|         61|              3|\n",
      "|         31|              3|\n",
      "|          9|              3|\n",
      "|         47|              3|\n",
      "|         17|              3|\n",
      "|         40|              3|\n",
      "|          4|              3|\n",
      "|         19|              3|\n",
      "|          8|              3|\n",
      "|         43|              3|\n",
      "|          7|              3|\n",
      "|         53|              3|\n",
      "+-----------+---------------+\n",
      "only showing top 20 rows\n",
      "\n"
     ]
    }
   ],
   "source": [
    "#запрос, чтобы указать общее количество заказов для каждого клиента\n",
    "df_orders = load_df(DB_URL, DB_USER, DB_PASSWORD, 'orders')\n",
    "\n",
    "df_orders.groupby(df_orders.customer_id).agg(count('*').alias('customer_orders')).sort(desc('customer_orders')).show()"
   ]
  },
  {
   "cell_type": "code",
   "execution_count": 73,
   "metadata": {},
   "outputs": [
    {
     "name": "stdout",
     "output_type": "stream",
     "text": [
      "+----------+---------+---------------+\n",
      "|first_name|last_name|customer_orders|\n",
      "+----------+---------+---------------+\n",
      "|   Lashawn|    Ortiz|              3|\n",
      "|    Corene|     Wall|              3|\n",
      "|    Emmitt|  Sanchez|              3|\n",
      "|     Debra|    Burks|              3|\n",
      "|   Lyndsey|     Bean|              3|\n",
      "|     Robby|    Sykes|              3|\n",
      "|    Tameka|   Fisher|              3|\n",
      "|    Linnie|   Branch|              3|\n",
      "|   Elinore|  Aguilar|              3|\n",
      "| Williemae| Holloway|              3|\n",
      "|  Genoveva|  Baldwin|              3|\n",
      "| Bridgette|   Guerra|              3|\n",
      "|     Caren| Stephens|              3|\n",
      "|     Ronna|   Butler|              3|\n",
      "|     Daryl|   Spence|              3|\n",
      "|  Lizzette|    Stein|              3|\n",
      "| Jacquline|   Duncan|              3|\n",
      "|   Mozelle|   Carter|              3|\n",
      "|   Latasha|     Hays|              3|\n",
      "| Saturnina|   Garner|              3|\n",
      "+----------+---------+---------------+\n",
      "only showing top 20 rows\n",
      "\n"
     ]
    }
   ],
   "source": [
    "# запрос, в котором будет указана информация о полном имени и общем количестве заказов клиентов, которые хотя бы 1 раз сделали заказ\n",
    "\n",
    "df_orders = load_df(DB_URL, DB_USER, DB_PASSWORD, 'orders')\n",
    "df_customers = load_df(DB_URL, DB_USER, DB_PASSWORD, 'customers')\n",
    "\n",
    "df_orders = df_orders.groupby(df_orders.customer_id).agg(count('*').alias('customer_orders'))\n",
    "\n",
    "df_agg = df_customers.join(df_orders, df_customers.customer_id == df_orders.customer_id)\n",
    "df_agg.select('first_name', 'last_name', 'customer_orders').sort(desc(df_agg.customer_orders)).show()\n"
   ]
  },
  {
   "cell_type": "code",
   "execution_count": 13,
   "metadata": {},
   "outputs": [],
   "source": [
    "#load dataframes from postgres database\n",
    "df_orders = load_df(DB_URL, DB_USER, DB_PASSWORD, 'orders')\n",
    "df_order_items = load_df(DB_URL, DB_USER, DB_PASSWORD, 'order_items')\n",
    "\n",
    "df = df_orders.join(df_order_items, df_orders.order_id == df_order_items.order_id, \"inner\")\n",
    "df = df.withColumn('total_cost', (df.quantity * df.list_price) * (1 - df.discount)) \\\n",
    "    .withColumn('month', substring('order_date', 1, 7)) #add columns for month and total cost"
   ]
  },
  {
   "cell_type": "code",
   "execution_count": 14,
   "metadata": {},
   "outputs": [
    {
     "name": "stdout",
     "output_type": "stream",
     "text": [
      "+----------+------------------+\n",
      "|product_id|   sum(total_cost)|\n",
      "+----------+------------------+\n",
      "|       148|  14739.9736328125|\n",
      "|       243|  3875.94287109375|\n",
      "|        31|26438.107299804688|\n",
      "|        85| 8464.243408203125|\n",
      "|       251|  16649.9443359375|\n",
      "|       137|11305.649658203125|\n",
      "|        65|18681.940887451172|\n",
      "|        53|14909.801025390625|\n",
      "|       255|     2456.97265625|\n",
      "|       133| 4139.972412109375|\n",
      "|       296|295.99200439453125|\n",
      "|        78|22899.965759277344|\n",
      "|       108|12622.219146728516|\n",
      "|       155|  54359.9560546875|\n",
      "|        34|6781.9554443359375|\n",
      "|       193| 12403.95556640625|\n",
      "|       211| 2943.099853515625|\n",
      "|       101|12079.844604492188|\n",
      "|       126|  2928.03759765625|\n",
      "|       115|14431.954833984375|\n",
      "+----------+------------------+\n",
      "only showing top 20 rows\n",
      "\n"
     ]
    }
   ],
   "source": [
    "#запрос для расчета общего объема продаж по каждому продукту (с учетом количества продукта, его цены по прейскуранту и скидки).\n",
    "df.groupBy('product_id').agg(sum('total_cost')).show()"
   ]
  },
  {
   "cell_type": "code",
   "execution_count": 15,
   "metadata": {},
   "outputs": [
    {
     "name": "stdout",
     "output_type": "stream",
     "text": [
      "+------------+--------+\n",
      "|order_status|count(1)|\n",
      "+------------+--------+\n",
      "|           1|      62|\n",
      "|           3|      45|\n",
      "|           4|    1445|\n",
      "|           2|      63|\n",
      "+------------+--------+\n",
      "\n"
     ]
    }
   ],
   "source": [
    "#запрос с расчетом количества заказов по каждому статусу заказа\n",
    "df_orders.groupBy('order_status').agg(count('*')).show()"
   ]
  },
  {
   "cell_type": "code",
   "execution_count": null,
   "metadata": {},
   "outputs": [
    {
     "name": "stdout",
     "output_type": "stream",
     "text": [
      "+-------+------------------+\n",
      "|  month|   sum(total_cost)|\n",
      "+-------+------------------+\n",
      "|2016-01|215146.42176818848|\n",
      "|2016-02|156112.32083129883|\n",
      "|2016-03|180600.32550048828|\n",
      "|2016-04| 167144.0491027832|\n",
      "|2016-05| 205270.0065460205|\n",
      "|2016-06|210562.12280273438|\n",
      "|2016-07| 199556.8063812256|\n",
      "|2016-08|225657.37339782715|\n",
      "|2016-09|273091.60652160645|\n",
      "|2016-10|212078.07704162598|\n",
      "|2016-11| 182329.4101715088|\n",
      "|2016-12|199829.97749328613|\n",
      "|2017-01|285616.48503112793|\n",
      "|2017-02| 312923.7484512329|\n",
      "|2017-03|308911.90142822266|\n",
      "|2017-04| 227290.9143371582|\n",
      "|2017-05|268233.23861694336|\n",
      "|2017-06| 378865.6547393799|\n",
      "|2017-07| 229995.3980255127|\n",
      "|2017-08| 290553.4551849365|\n",
      "+-------+------------------+\n",
      "only showing top 20 rows\n",
      "\n"
     ]
    }
   ],
   "source": [
    "#запрос для расчета общей суммы продаж за каждый месяц.\n",
    "df.groupBy('month').agg(sum('total_cost')).sort(asc('month')).show()"
   ]
  },
  {
   "cell_type": "code",
   "execution_count": 17,
   "metadata": {},
   "outputs": [
    {
     "name": "stdout",
     "output_type": "stream",
     "text": [
      "+-----------+------------------+\n",
      "|customer_id|               sum|\n",
      "+-----------+------------------+\n",
      "|         73| 27050.71827697754|\n",
      "|        122|24890.624755859375|\n",
      "|       1224|24607.026489257812|\n",
      "|       1214| 20648.95458984375|\n",
      "|        425|20509.425842285156|\n",
      "+-----------+------------------+\n",
      "\n"
     ]
    }
   ],
   "source": [
    "#запрос, чтобы найти топ 5 клиентов, которые потратили больше всего денег.\n",
    "df = df_orders.join(df_order_items, df_orders.order_id == df_order_items.order_id, \"inner\")\n",
    "df = df.withColumn('total_cost', (df.quantity * df.list_price) * (1 - df.discount))\n",
    "df.where(col(\"order_status\") == 4).groupBy('customer_id').agg(sum('total_cost').alias('sum')).sort(desc(\"sum\")).limit(5).show()"
   ]
  }
 ],
 "metadata": {
  "kernelspec": {
   "display_name": ".venv",
   "language": "python",
   "name": "python3"
  },
  "language_info": {
   "codemirror_mode": {
    "name": "ipython",
    "version": 3
   },
   "file_extension": ".py",
   "mimetype": "text/x-python",
   "name": "python",
   "nbconvert_exporter": "python",
   "pygments_lexer": "ipython3",
   "version": "3.9.1"
  }
 },
 "nbformat": 4,
 "nbformat_minor": 2
}
