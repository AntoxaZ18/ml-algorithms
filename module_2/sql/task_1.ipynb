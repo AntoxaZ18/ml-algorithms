{
 "cells": [
  {
   "cell_type": "code",
   "execution_count": 11,
   "metadata": {},
   "outputs": [],
   "source": [
    "import psycopg2 as ps \n",
    "import sys\n",
    "\n",
    "DB_HOST = 'localhost'\n",
    "DB_PORT = 5433\n",
    "DB_USER = 'postgres'\n",
    "DB_PASSWORD = 'postgres' #bad practice, better using env variable instead \n",
    "DB_DATABASE = 'postgres'\n",
    "\n",
    "\n",
    "try:\n",
    "     connection = ps.connect(\n",
    "          host = DB_HOST,\n",
    "          port = DB_PORT,\n",
    "          user = DB_USER,\n",
    "          password = DB_PASSWORD,\n",
    "          database = DB_DATABASE\n",
    "     )\n",
    "except Exception as e:\n",
    "     print(f'Cannot open database exception: {e}')\n",
    "     sys.exit(1)\n",
    "\n",
    "def load_data(sql_query):\n",
    "     cursor = connection.cursor()\n",
    "     cursor.execute(sql_query)\n",
    "     return cursor.fetchall()\n",
    "\n",
    "def sql_query(query: str):\n",
    "     data = load_data(query)\n",
    "     for row in data:\n",
    "          print(*row, sep = ' | ')\n",
    "\n",
    "#во всех запросах установлено ограничение 10 для уменьшения количества выводимой информации "
   ]
  },
  {
   "cell_type": "code",
   "execution_count": 12,
   "metadata": {},
   "outputs": [
    {
     "name": "stdout",
     "output_type": "stream",
     "text": [
      "Trek 820 - 2016 | Trek\n",
      "Ritchey Timberwolf Frameset - 2016 | Ritchey\n",
      "Surly Wednesday Frameset - 2016 | Surly\n",
      "Trek Fuel EX 8 29 - 2016 | Trek\n",
      "Heller Shagamaw Frame - 2016 | Heller\n",
      "Surly Ice Cream Truck Frameset - 2016 | Surly\n",
      "Trek Slash 8 27.5 - 2016 | Trek\n",
      "Trek Remedy 29 Carbon Frameset - 2016 | Trek\n",
      "Trek Conduit+ - 2016 | Trek\n",
      "Surly Straggler - 2016 | Surly\n"
     ]
    }
   ],
   "source": [
    "# все названия продуктов и соответствующиеим торговые марки(brand)\n",
    "query_1 = '''SELECT products.product_name, brands.brand_name \n",
    "             FROM products \n",
    "             JOIN brands ON products.brand_id = brands.brand_id\n",
    "             LIMIT 10'''\n",
    "\n",
    "sql_query(query_1)"
   ]
  },
  {
   "cell_type": "code",
   "execution_count": 13,
   "metadata": {},
   "outputs": [
    {
     "name": "stdout",
     "output_type": "stream",
     "text": [
      "Fabiola | Jackson | Santa Cruz Bikes\n",
      "Mireya | Copeland | Santa Cruz Bikes\n",
      "Genna | Serrano | Santa Cruz Bikes\n",
      "Virgie | Wiggins | Santa Cruz Bikes\n",
      "Jannette | David | Baldwin Bikes\n",
      "Marcelene | Boyer | Baldwin Bikes\n",
      "Venita | Daniel | Baldwin Bikes\n",
      "Kali | Vargas | Rowlett Bikes\n",
      "Layla | Terrell | Rowlett Bikes\n",
      "Bernardine | Houston | Rowlett Bikes\n"
     ]
    }
   ],
   "source": [
    "# найти всех активных сотрудников и наименования магазинов, в которых они работают\n",
    "query_2 = '''SELECT staffs.first_name, staffs.last_name, stores.store_name \n",
    "             FROM staffs \n",
    "             JOIN stores ON staffs.store_id = stores.store_id\n",
    "             WHERE staffs.active = 1 LIMIT 10'''\n",
    "sql_query(query_2)"
   ]
  },
  {
   "cell_type": "code",
   "execution_count": 14,
   "metadata": {},
   "outputs": [
    {
     "name": "stdout",
     "output_type": "stream",
     "text": [
      "None | None | None | None\n",
      "Debra | Burks | debra.burks@yahoo.com | NULL\n",
      "Kasha | Todd | kasha.todd@yahoo.com | NULL\n",
      "Tameka | Fisher | tameka.fisher@aol.com | NULL\n",
      "Daryl | Spence | daryl.spence@aol.com | NULL\n",
      "Charolette | Rice | charolette.rice@msn.com | (916) 381-6003\n",
      "Lyndsey | Bean | lyndsey.bean@hotmail.com | NULL\n",
      "Latasha | Hays | latasha.hays@hotmail.com | (716) 986-3359\n",
      "Jacquline | Duncan | jacquline.duncan@yahoo.com | NULL\n",
      "Genoveva | Baldwin | genoveva.baldwin@msn.com | NULL\n"
     ]
    }
   ],
   "source": [
    "# всех покупателей выбранного магазина с указанием их полных имен, электронной почты и номера телефона (store_id = 2 в примере)\n",
    "query_3 = '''\n",
    "          SELECT customers.first_name, customers.last_name, customers.email, customers.phone\n",
    "          FROM customers \n",
    "          RIGHT JOIN orders ON orders.customer_id = orders.customer_id AND orders.store_id = 2\n",
    "          LIMIT 10'''\n",
    "sql_query(query_3)"
   ]
  },
  {
   "cell_type": "code",
   "execution_count": 15,
   "metadata": {},
   "outputs": [
    {
     "name": "stdout",
     "output_type": "stream",
     "text": [
      "7 | 60\n",
      "1 | 59\n",
      "5 | 24\n",
      "2 | 30\n",
      "4 | 10\n",
      "6 | 60\n",
      "3 | 78\n"
     ]
    }
   ],
   "source": [
    "# запрос для подсчета количества продуктов в каждой категории\n",
    "query_4 = '''\n",
    "          SELECT category_id, count(*)\n",
    "          FROM products GROUP BY category_id\n",
    "          LIMIT 10'''\n",
    "sql_query(query_4)"
   ]
  },
  {
   "cell_type": "code",
   "execution_count": 16,
   "metadata": {},
   "outputs": [
    {
     "name": "stdout",
     "output_type": "stream",
     "text": [
      "30 | 3\n",
      "12 | 3\n",
      "13 | 3\n",
      "18 | 3\n",
      "3 | 3\n",
      "19 | 3\n",
      "10 | 3\n",
      "50 | 3\n",
      "2 | 3\n",
      "116 | 3\n"
     ]
    }
   ],
   "source": [
    "#запрос,чтобы указать общее количество заказов для каждого клиента\n",
    "query_5 = '''\n",
    "          SELECT customer_id, COUNT(order_id) as count\n",
    "          FROM orders \n",
    "          GROUP BY orders.customer_id\n",
    "          ORDER BY count DESC\n",
    "          LIMIT 10'''\n",
    "sql_query(query_5)"
   ]
  },
  {
   "cell_type": "code",
   "execution_count": 18,
   "metadata": {},
   "outputs": [
    {
     "name": "stdout",
     "output_type": "stream",
     "text": [
      "Jamaal | Albert | 3\n",
      "Robby | Sykes | 3\n",
      "Lashawn | Ortiz | 3\n",
      "Georgetta | Hardin | 3\n",
      "Tameka | Fisher | 3\n",
      "Lizzette | Stein | 3\n",
      "Pamelia | Newman | 3\n",
      "Cleotilde | Booth | 3\n",
      "Kasha | Todd | 3\n",
      "Merlene | Vinson | 3\n"
     ]
    }
   ],
   "source": [
    "#запрос, в котором будет указана информация о полном имени и общем количестве заказов клиентов, которые хотябы 1 раз сделали заказ. (4 - статус завершенного заказа)\n",
    "query_6 = '''\n",
    "          SELECT first_name, last_name, COUNT(orders.order_id) AS count\n",
    "          FROM customers \n",
    "          JOIN orders ON orders.customer_id = customers.customer_id \n",
    "          GROUP BY customers.customer_id\n",
    "          ORDER BY count DESC\n",
    "          LIMIT 10'''\n",
    "sql_query(query_6)\n"
   ]
  }
 ],
 "metadata": {
  "kernelspec": {
   "display_name": ".venv",
   "language": "python",
   "name": "python3"
  },
  "language_info": {
   "codemirror_mode": {
    "name": "ipython",
    "version": 3
   },
   "file_extension": ".py",
   "mimetype": "text/x-python",
   "name": "python",
   "nbconvert_exporter": "python",
   "pygments_lexer": "ipython3",
   "version": "3.9.1"
  }
 },
 "nbformat": 4,
 "nbformat_minor": 2
}
