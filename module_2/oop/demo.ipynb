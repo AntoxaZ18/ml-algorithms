{
 "cells": [
  {
   "cell_type": "code",
   "execution_count": 7,
   "metadata": {},
   "outputs": [
    {
     "name": "stdout",
     "output_type": "stream",
     "text": [
      "Sum: (5.2+7.1j)\n",
      "Difference: (-3.2-3.0999999999999996j)\n",
      "Mult: (-5.999999999999999+13.5j)\n",
      "Div: (0.3298969072164949+0.07560137457044676j)\n",
      "equal operator: True\n",
      "Polar form (2.23606797749979, 1.1071487177940904)\n",
      "from polar and original: ((1+2j), (1.0000000000000002+2j))\n"
     ]
    }
   ],
   "source": [
    "from complex import ComplexNumber\n",
    "\n",
    "def demo_complex():\n",
    "    '''demostration ComplexNumber class'''\n",
    "\n",
    "    x = ComplexNumber(1, 2)\n",
    "    y = ComplexNumber(4.2, 5.1)\n",
    "\n",
    "    print(f'Sum: {x + y}')\n",
    "    print(f'Difference: {x - y}')\n",
    "    print(f'Mult: {x * y}')\n",
    "    print(f'Div: {x / y}')\n",
    "\n",
    "    print(f'equal operator: {ComplexNumber(1, 2) == ComplexNumber(1, 2)}')\n",
    "\n",
    "    polar_coords = x.polar()\n",
    "\n",
    "    print(f'Polar form {polar_coords}')\n",
    "\n",
    "    x1 = ComplexNumber(*polar_coords, form='polar')\n",
    "\n",
    "    print(f'from polar and original: {x, x1}')\n",
    "\n",
    "demo_complex()"
   ]
  },
  {
   "cell_type": "code",
   "execution_count": 8,
   "metadata": {},
   "outputs": [
    {
     "name": "stdout",
     "output_type": "stream",
     "text": [
      "str method: 3 dim vec (1.5, 2.9, 3.72), 3 dim vec (2.4, -3.6, 9.55)\n",
      "vectors sum: 3 dim vec (3.9, -0.7000000000000002, 13.270000000000001)\n",
      "vectors difference: 3 dim vec (-0.8999999999999999, 6.5, -5.83)\n",
      "vectors equal: False\n",
      "vectors gt operator: False\n",
      "vectors lt operator: True\n",
      "vectors ge operator: False\n",
      "vectors le operator: True\n",
      "vectors mult on float: 3 dim vec (4.800000000000001, 9.28, 11.904000000000002)\n",
      "vectors mult float on vector: 3 dim vec (6.936, -10.404, 27.599500000000003)\n",
      "vectors mult: 28.68600\n",
      "cos angle between vectors: 0.55279\n",
      "euclide dict between vectors: 8.77775\n",
      "vector cos with zero value, Cannot find cos with zero vector: 3 dim vec (0, 0, 0)\n"
     ]
    }
   ],
   "source": [
    "from vector import Vector\n",
    "\n",
    "def demo_vectors():\n",
    "    '''demostration Vector class'''\n",
    "\n",
    "    x = Vector([1.5, 2.9, 3.72])\n",
    "    y = Vector([2.4, -3.6, 9.55])\n",
    "\n",
    "    print(f'str method: {x}, {y}')\n",
    "\n",
    "    print(f'vectors sum: {x + y}')\n",
    "    print(f'vectors difference: {x - y}')\n",
    "    print(f'vectors equal: {x == y}')\n",
    "\n",
    "    print(f'vectors gt operator: {x > y}')\n",
    "    print(f'vectors lt operator: {x < y}')\n",
    "\n",
    "    print(f'vectors ge operator: {x >= y}')\n",
    "    print(f'vectors le operator: {x <= y}')\n",
    "\n",
    "    print(f'vectors mult on float: {x * 3.2}')\n",
    "    print(f'vectors mult float on vector: {2.89 * y}')\n",
    "\n",
    "    print(f'vectors mult: {x * y:.5f}')\n",
    "\n",
    "    print(f'cos angle between vectors: {x.cos(y):.5f}')\n",
    "    print(f'euclide dict between vectors: {x.euclide_dist(y):.5f}')\n",
    "\n",
    "    try:\n",
    "        x.cos(Vector((0,0,0)))\n",
    "    except ValueError as e:\n",
    "        print(f'vector cos with zero value, {e}')\n",
    "\n",
    "\n"
   ]
  }
 ],
 "metadata": {
  "kernelspec": {
   "display_name": ".venv",
   "language": "python",
   "name": "python3"
  },
  "language_info": {
   "codemirror_mode": {
    "name": "ipython",
    "version": 3
   },
   "file_extension": ".py",
   "mimetype": "text/x-python",
   "name": "python",
   "nbconvert_exporter": "python",
   "pygments_lexer": "ipython3",
   "version": "3.9.1"
  }
 },
 "nbformat": 4,
 "nbformat_minor": 2
}
