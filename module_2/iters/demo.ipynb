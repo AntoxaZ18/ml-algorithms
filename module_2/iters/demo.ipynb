{
 "cells": [
  {
   "cell_type": "code",
   "execution_count": null,
   "metadata": {},
   "outputs": [
    {
     "ename": "ValueError",
     "evalue": "lst must contain only numbers int or float",
     "output_type": "error",
     "traceback": [
      "\u001b[1;31m---------------------------------------------------------------------------\u001b[0m",
      "\u001b[1;31mValueError\u001b[0m                                Traceback (most recent call last)",
      "Cell \u001b[1;32mIn[5], line 3\u001b[0m\n\u001b[0;32m      1\u001b[0m \u001b[38;5;28;01mfrom\u001b[39;00m \u001b[38;5;21;01mtask_1\u001b[39;00m \u001b[38;5;28;01mimport\u001b[39;00m task_process\n\u001b[1;32m----> 3\u001b[0m \u001b[38;5;28mprint\u001b[39m(\u001b[43mtask_process\u001b[49m\u001b[43m(\u001b[49m\u001b[43m[\u001b[49m\u001b[38;5;241;43m-\u001b[39;49m\u001b[38;5;241;43m1\u001b[39;49m\u001b[43m,\u001b[49m\u001b[43m \u001b[49m\u001b[38;5;241;43m-\u001b[39;49m\u001b[38;5;241;43m2\u001b[39;49m\u001b[43m,\u001b[49m\u001b[43m \u001b[49m\u001b[38;5;124;43m\"\u001b[39;49m\u001b[38;5;124;43m1\u001b[39;49m\u001b[38;5;124;43m\"\u001b[39;49m\u001b[43m]\u001b[49m\u001b[43m)\u001b[49m)\n",
      "File \u001b[1;32md:\\projects\\ml algorithms\\module_2\\iters\\task_1.py:10\u001b[0m, in \u001b[0;36mtask_process\u001b[1;34m(lst)\u001b[0m\n\u001b[0;32m      7\u001b[0m     \u001b[38;5;28;01mraise\u001b[39;00m \u001b[38;5;167;01mTypeError\u001b[39;00m(\u001b[38;5;124m\"\u001b[39m\u001b[38;5;124mlst must be a Iterable class [list, set...]\u001b[39m\u001b[38;5;124m\"\u001b[39m)\n\u001b[0;32m      9\u001b[0m \u001b[38;5;28;01mif\u001b[39;00m \u001b[38;5;129;01mnot\u001b[39;00m \u001b[38;5;28mall\u001b[39m((\u001b[38;5;28misinstance\u001b[39m(i, (\u001b[38;5;28mint\u001b[39m, \u001b[38;5;28mfloat\u001b[39m)) \u001b[38;5;28;01mfor\u001b[39;00m i \u001b[38;5;129;01min\u001b[39;00m lst)):\n\u001b[1;32m---> 10\u001b[0m     \u001b[38;5;28;01mraise\u001b[39;00m \u001b[38;5;167;01mValueError\u001b[39;00m(\u001b[38;5;124m\"\u001b[39m\u001b[38;5;124mlst must contain only numbers int or float\u001b[39m\u001b[38;5;124m\"\u001b[39m)\n\u001b[0;32m     12\u001b[0m \u001b[38;5;28;01mif\u001b[39;00m \u001b[38;5;129;01mnot\u001b[39;00m \u001b[38;5;28many\u001b[39m((x \u001b[38;5;241m>\u001b[39m \u001b[38;5;241m0\u001b[39m \u001b[38;5;28;01mfor\u001b[39;00m x \u001b[38;5;129;01min\u001b[39;00m lst)):\n\u001b[0;32m     13\u001b[0m     \u001b[38;5;28;01mraise\u001b[39;00m \u001b[38;5;167;01mValueError\u001b[39;00m(\u001b[38;5;124m\"\u001b[39m\u001b[38;5;124mlst must at least contain one positive number\u001b[39m\u001b[38;5;124m\"\u001b[39m)\n",
      "\u001b[1;31mValueError\u001b[0m: lst must contain only numbers int or float"
     ]
    }
   ],
   "source": [
    "#task 1\n",
    "from task_1 import task_process\n",
    "\n",
    "print(task_process([-1, -2, \"1\"]))"
   ]
  },
  {
   "cell_type": "code",
   "execution_count": 6,
   "metadata": {},
   "outputs": [
    {
     "ename": "ValueError",
     "evalue": "lst must at least contain one positive number",
     "output_type": "error",
     "traceback": [
      "\u001b[1;31m---------------------------------------------------------------------------\u001b[0m",
      "\u001b[1;31mValueError\u001b[0m                                Traceback (most recent call last)",
      "Cell \u001b[1;32mIn[6], line 1\u001b[0m\n\u001b[1;32m----> 1\u001b[0m \u001b[38;5;28mprint\u001b[39m(\u001b[43mtask_process\u001b[49m\u001b[43m(\u001b[49m\u001b[43m[\u001b[49m\u001b[38;5;241;43m-\u001b[39;49m\u001b[38;5;241;43m1\u001b[39;49m\u001b[43m,\u001b[49m\u001b[43m \u001b[49m\u001b[38;5;241;43m-\u001b[39;49m\u001b[38;5;241;43m2\u001b[39;49m\u001b[43m,\u001b[49m\u001b[43m \u001b[49m\u001b[38;5;241;43m0\u001b[39;49m\u001b[43m]\u001b[49m\u001b[43m)\u001b[49m)\n",
      "File \u001b[1;32md:\\projects\\ml algorithms\\module_2\\iters\\task_1.py:13\u001b[0m, in \u001b[0;36mtask_process\u001b[1;34m(lst)\u001b[0m\n\u001b[0;32m     10\u001b[0m     \u001b[38;5;28;01mraise\u001b[39;00m \u001b[38;5;167;01mValueError\u001b[39;00m(\u001b[38;5;124m\"\u001b[39m\u001b[38;5;124mlst must contain only numbers int or float\u001b[39m\u001b[38;5;124m\"\u001b[39m)\n\u001b[0;32m     12\u001b[0m \u001b[38;5;28;01mif\u001b[39;00m \u001b[38;5;129;01mnot\u001b[39;00m \u001b[38;5;28many\u001b[39m((x \u001b[38;5;241m>\u001b[39m \u001b[38;5;241m0\u001b[39m \u001b[38;5;28;01mfor\u001b[39;00m x \u001b[38;5;129;01min\u001b[39;00m lst)):\n\u001b[1;32m---> 13\u001b[0m     \u001b[38;5;28;01mraise\u001b[39;00m \u001b[38;5;167;01mValueError\u001b[39;00m(\u001b[38;5;124m\"\u001b[39m\u001b[38;5;124mlst must at least contain one positive number\u001b[39m\u001b[38;5;124m\"\u001b[39m)\n\u001b[0;32m     15\u001b[0m \u001b[38;5;28;01mreturn\u001b[39;00m \u001b[38;5;28msorted\u001b[39m(lst)\n",
      "\u001b[1;31mValueError\u001b[0m: lst must at least contain one positive number"
     ]
    }
   ],
   "source": [
    "print(task_process([-1, -2, 0]))"
   ]
  },
  {
   "cell_type": "code",
   "execution_count": 7,
   "metadata": {},
   "outputs": [
    {
     "name": "stdout",
     "output_type": "stream",
     "text": [
      "[-2, -1, 1]\n"
     ]
    }
   ],
   "source": [
    "print(task_process([-1, -2, 1]))"
   ]
  },
  {
   "cell_type": "code",
   "execution_count": 11,
   "metadata": {},
   "outputs": [
    {
     "name": "stdout",
     "output_type": "stream",
     "text": [
      "1\n",
      "2\n",
      "3\n",
      "4\n",
      "1\n",
      "2\n",
      "3\n",
      "4\n",
      "1\n",
      "2\n"
     ]
    }
   ],
   "source": [
    "#task 2\n",
    "from task_2 import CyclicIterator\n",
    "\n",
    "a = CyclicIterator([1, 2, 3, 4])\n",
    "\n",
    "\n",
    "for _ in range(10):\n",
    "    print(next(a))\n"
   ]
  },
  {
   "cell_type": "code",
   "execution_count": null,
   "metadata": {},
   "outputs": [
    {
     "name": "stdout",
     "output_type": "stream",
     "text": [
      "cjG2IW4OUMEA\n",
      "vlpbUy?O3lfr\n",
      "6ilxFF6PTJ*u\n",
      "AMUIhdYoGhlJ\n",
      "S5gLs$jp9NzV\n"
     ]
    }
   ],
   "source": [
    "#task 3\n",
    "from task_3 import gen_password\n",
    "\n",
    "pass_gen = gen_password()\n",
    "\n",
    "for _ in range(5):\n",
    "    print(next(pass_gen))"
   ]
  },
  {
   "cell_type": "code",
   "execution_count": 10,
   "metadata": {},
   "outputs": [
    {
     "name": "stdout",
     "output_type": "stream",
     "text": [
      "2024-11-01 00:00:00\n",
      "2024-11-02 00:00:00\n",
      "2024-11-03 00:00:00\n",
      "2024-11-04 00:00:00\n",
      "2024-11-05 00:00:00\n",
      "2024-11-06 00:00:00\n",
      "2024-11-07 00:00:00\n",
      "2024-12-15 00:00:00\n",
      "2024-12-16 00:00:00\n",
      "2024-12-17 00:00:00\n",
      "2024-12-18 00:00:00\n",
      "2024-12-19 00:00:00\n",
      "2024-12-20 00:00:00\n",
      "2024-12-21 00:00:00\n",
      "2024-12-22 00:00:00\n",
      "2024-12-23 00:00:00\n",
      "2024-12-24 00:00:00\n",
      "2024-12-25 00:00:00\n",
      "2024-12-26 00:00:00\n",
      "2024-12-27 00:00:00\n",
      "2024-12-28 00:00:00\n",
      "2024-12-29 00:00:00\n",
      "2024-12-30 00:00:00\n",
      "2024-12-31 00:00:00\n",
      "2025-01-10 00:00:00\n",
      "2025-01-11 00:00:00\n",
      "2025-01-12 00:00:00\n",
      "2025-01-13 00:00:00\n",
      "2025-01-14 00:00:00\n",
      "2025-01-15 00:00:00\n"
     ]
    }
   ],
   "source": [
    "#task 4\n",
    "from datetime import datetime\n",
    "from task_4 import Movie\n",
    "\n",
    "sc = [\n",
    "    (datetime(2024, 11, 1), datetime(2024, 11, 7)),\n",
    "    (datetime(2024, 12, 15), datetime(2024, 12, 31)),\n",
    "    (datetime(2025, 1, 10), datetime(2025, 1, 15)),\n",
    "]\n",
    "\n",
    "x = Movie(\"Alien\", schedule=sc)\n",
    "\n",
    "print(*x.schedule(), sep=\"\\n\")\n"
   ]
  }
 ],
 "metadata": {
  "kernelspec": {
   "display_name": ".venv",
   "language": "python",
   "name": "python3"
  },
  "language_info": {
   "codemirror_mode": {
    "name": "ipython",
    "version": 3
   },
   "file_extension": ".py",
   "mimetype": "text/x-python",
   "name": "python",
   "nbconvert_exporter": "python",
   "pygments_lexer": "ipython3",
   "version": "3.9.1"
  }
 },
 "nbformat": 4,
 "nbformat_minor": 2
}
