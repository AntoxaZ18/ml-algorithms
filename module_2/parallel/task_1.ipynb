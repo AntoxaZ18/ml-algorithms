{
 "cells": [
  {
   "cell_type": "code",
   "execution_count": 49,
   "metadata": {},
   "outputs": [
    {
     "name": "stdout",
     "output_type": "stream",
     "text": [
      "Сумма чисел в первом обработанном списке: 11090\n"
     ]
    }
   ],
   "source": [
    "import ast\n",
    "from time import sleep\n",
    "from concurrent.futures import ThreadPoolExecutor, as_completed\n",
    "\n",
    "lists = ast.literal_eval((open('test_list_numbers.txt', 'r').read())) #read list of lists from file\n",
    "\n",
    "\n",
    "def process_number(lst_id: int, number: int):   #функция принимает индекс массива и число для обработки\n",
    "    sleep(0.2)\n",
    "    return lst_id, number * 2\n",
    "\n",
    "\n",
    "lengths = {lst_id: len(i) for (lst_id, i) in enumerate(lists)}  #словарь где ключ - индекс массива, значение - длина массива \n",
    "result_sum = {} #словарь куда сохраняем результаты, ключ - индекс массива, значение - текущая сумма этого массива\n",
    "\n",
    "\n",
    "def create_process_lst(all_list: list):\n",
    "    numbers_to_process = [] \n",
    "\n",
    "    for lst_id, lst in enumerate(all_list):    #создаем список который состоит из кортежей где второе значение это число которое нужно обработать, первое число - индекс массива которому оно принадлежит\n",
    "        for number in lst:\n",
    "            numbers_to_process.append((lst_id, number))\n",
    "\n",
    "    return numbers_to_process\n",
    "\n",
    "with ThreadPoolExecutor(max_workers=10) as pool:\n",
    "    futures = [pool.submit(process_number, idx, i) for idx, i in create_process_lst(lists)]\n",
    "\n",
    "    for future in as_completed(futures):\n",
    "        list_id, number = future.result()\n",
    "\n",
    "        result_sum[list_id] = result_sum.get(list_id, 0) + number   #добавляем к текущей сумме результат работы функции \n",
    "        lengths[list_id] = lengths[list_id] - 1 #уменьшаем число обработанных элементов в списке\n",
    "        if lengths[list_id] == 0:   #если все числа списка обработались выводим результат\n",
    "            print(f\"Сумма чисел в первом обработанном списке: {result_sum[list_id]}\")\n",
    "            break\n",
    "    "
   ]
  }
 ],
 "metadata": {
  "kernelspec": {
   "display_name": ".venv",
   "language": "python",
   "name": "python3"
  },
  "language_info": {
   "codemirror_mode": {
    "name": "ipython",
    "version": 3
   },
   "file_extension": ".py",
   "mimetype": "text/x-python",
   "name": "python",
   "nbconvert_exporter": "python",
   "pygments_lexer": "ipython3",
   "version": "3.9.1"
  }
 },
 "nbformat": 4,
 "nbformat_minor": 2
}
