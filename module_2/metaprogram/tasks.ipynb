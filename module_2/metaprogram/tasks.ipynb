{
 "cells": [
  {
   "cell_type": "code",
   "execution_count": 1,
   "metadata": {},
   "outputs": [
    {
     "name": "stderr",
     "output_type": "stream",
     "text": [
      "INFO:root:Writing attribute test\n",
      "INFO:root:Reading attribute test\n",
      "INFO:root:Calling method meth\n"
     ]
    },
    {
     "name": "stdout",
     "output_type": "stream",
     "text": [
      "1\n",
      "method 1\n"
     ]
    }
   ],
   "source": [
    "import logging\n",
    "\n",
    "logging.basicConfig(level=logging.INFO)\n",
    "\n",
    "class AttrLoggingMeta(type):\n",
    "\n",
    "    def __new__(cls, name, bases, attrs):\n",
    "        \n",
    "        for key, attr in attrs.items():\n",
    "            if callable(attr) and key != '__init__':\n",
    "                attrs[key] = AttrLoggingMeta.log_access(attr)\n",
    "\n",
    "        return super().__new__(cls, name, bases, attrs)     \n",
    "    \n",
    "    def __init__(cls, name, bases, attrs, **extra_kwargs): \n",
    "        cls.__setattr__ = AttrLoggingMeta.log_write(cls.__setattr__)\n",
    "        cls.__getattribute__ = AttrLoggingMeta.log_read(cls.__getattribute__)\n",
    "\n",
    "        super().__init__(cls, bases, attrs, **extra_kwargs)   \n",
    "\n",
    "\n",
    "    @staticmethod\n",
    "    def log_access(f):\n",
    "        def wrapper(*args, **kwargs):\n",
    "            logging.info(f'Calling method {f.__name__}')\n",
    "\n",
    "            return f(*args, **kwargs)\n",
    "        \n",
    "        return wrapper\n",
    "    @staticmethod\n",
    "    def log_read(f):\n",
    "        def wrapper(*args, **kwargs):\n",
    "\n",
    "            if args[1] in ('__getattribute__', '__dict__'):\n",
    "                return object.__getattribute__(*args)\n",
    "            \n",
    "            if not callable(object.__getattribute__(*args)):\n",
    "                logging.info(f'Reading attribute {args[1]}')\n",
    "\n",
    "            return f(*args, **kwargs)\n",
    " \n",
    "        return wrapper \n",
    "    \n",
    "    @staticmethod\n",
    "    def log_write(f):\n",
    "        def wrapper(*args, **kwargs):\n",
    "            logging.info(f'Writing attribute {args[1]}')\n",
    "\n",
    "            return f(*args, **kwargs)\n",
    "        \n",
    "        return wrapper  \n",
    "\n",
    "    def __call__(cls, *args, **kwargs):  \n",
    "        return super().__call__(*args, **kwargs)\n",
    "\n",
    "\n",
    "class LoggedClass(metaclass = AttrLoggingMeta):\n",
    "\n",
    "    def meth(self):\n",
    "        return 'method 1'\n",
    "\n",
    "    def meth_2(self):\n",
    "        return 'method 2'\n",
    "\n",
    "\n",
    "a = LoggedClass()\n",
    "a.test = 1\n",
    "print(a.test)\n",
    "print(a.meth())\n"
   ]
  },
  {
   "cell_type": "code",
   "execution_count": 2,
   "metadata": {},
   "outputs": [
    {
     "name": "stdout",
     "output_type": "stream",
     "text": [
      "Hello, I am a Human and I am 25 years old.\n"
     ]
    }
   ],
   "source": [
    "def create_class_with_methods(name: str, attributes: dict, methods: dict):\n",
    "    \n",
    "    return type(\n",
    "    name,\n",
    "    (),  \n",
    "    {  \n",
    "        '__doc__': 'This is demo of dynamic Class',  \n",
    "        **attributes,\n",
    "        **methods\n",
    "    }  \n",
    ")  \n",
    "\n",
    "\n",
    "\n",
    "class_attributes = {'species':'Human', 'age':25}\n",
    "class_methods = {'greet': lambda self: f\"Hello, I am a {self.species} and I am {self.age} years old.\"}\n",
    "DynamicClass = create_class_with_methods('DynamicClass', class_attributes, class_methods )\n",
    "\n",
    "instance = DynamicClass()\n",
    "print(instance.greet())"
   ]
  },
  {
   "cell_type": "code",
   "execution_count": null,
   "metadata": {},
   "outputs": [
    {
     "name": "stdout",
     "output_type": "stream",
     "text": [
      "complex_function\n",
      "5\n",
      "5\n"
     ]
    }
   ],
   "source": [
    "from types import FunctionType \n",
    "from typing import List\n",
    "\n",
    "function_name = 'complex_function'\n",
    "parameters = ['x','y']\n",
    "function_body = \"\"\"\n",
    "    if x > y:\n",
    "        return x-y\n",
    "    else:\n",
    "        return y-x\n",
    "\"\"\"\n",
    "\n",
    "def generate_complex_function(name:str, args:List, code:str):\n",
    "    '''function for generate function from source code'''\n",
    "    func_code = compile(f'def f({\", \".join(args)}):' + code, \"<string>\", \"exec\")\n",
    "\n",
    "    return FunctionType(func_code.co_consts[0], globals(), name)\n",
    "\n",
    "\n",
    "complex_func = generate_complex_function(function_name, parameters, function_body)\n",
    "\n",
    "print(complex_func.__name__)\n",
    "\n",
    "print(complex_func(10, 5))\n",
    "print(complex_func(5, 10))"
   ]
  }
 ],
 "metadata": {
  "kernelspec": {
   "display_name": ".venv",
   "language": "python",
   "name": "python3"
  },
  "language_info": {
   "codemirror_mode": {
    "name": "ipython",
    "version": 3
   },
   "file_extension": ".py",
   "mimetype": "text/x-python",
   "name": "python",
   "nbconvert_exporter": "python",
   "pygments_lexer": "ipython3",
   "version": "3.9.1"
  }
 },
 "nbformat": 4,
 "nbformat_minor": 2
}
