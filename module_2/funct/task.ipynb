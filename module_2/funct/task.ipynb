{
 "cells": [
  {
   "cell_type": "code",
   "execution_count": null,
   "metadata": {},
   "outputs": [
    {
     "name": "stdout",
     "output_type": "stream",
     "text": [
      "Москва Казань\n"
     ]
    }
   ],
   "source": [
    "#Задача 1\n",
    "def longer_3(s: str):\n",
    "    return len(s) > 3\n",
    "\n",
    "test_input_string = 'Уфа Москва Аша Казань'\n",
    "\n",
    "long_names = [i for i in input().split() if longer_3(i)]\n",
    "\n",
    "print(' '.join(long_names))"
   ]
  },
  {
   "cell_type": "code",
   "execution_count": null,
   "metadata": {},
   "outputs": [
    {
     "name": "stdout",
     "output_type": "stream",
     "text": [
      "[1, 12, 37, 55, 89]\n"
     ]
    }
   ],
   "source": [
    "#Задача 2\n",
    "def sort_func(f, args):\n",
    "    return sorted(f(args))\n",
    "\n",
    "\n",
    "def get_list(numbers_str: str) -> list:\n",
    "    '''return list of integers from string'''\n",
    "    return [int(i) for i in numbers_str.split()]\n",
    "\n",
    "\n",
    "test_input_string = '12 1 89 55 37'\n",
    "\n",
    "print(sort_func(get_list, input()))"
   ]
  },
  {
   "cell_type": "code",
   "execution_count": 15,
   "metadata": {},
   "outputs": [
    {
     "name": "stdout",
     "output_type": "stream",
     "text": [
      "['ако', 'акр', 'акс', 'акт', 'аок', 'аор', 'аос', 'аот', 'арк', 'аро', 'арс', 'арт', 'аск', 'асо', 'аср', 'аст', 'атк', 'ато', 'атр', 'атс', 'као', 'кар', 'кас', 'кат', 'коа', 'кор', 'кос', 'кот', 'кра', 'кро', 'крс', 'крт', 'кса', 'ксо', 'кср', 'кст', 'кта', 'кто', 'ктр', 'ктс', 'оак', 'оар', 'оас', 'оат', 'ока', 'окр', 'окс', 'окт', 'ора', 'орк', 'орс', 'орт', 'оса', 'оск', 'оср', 'ост', 'ота', 'отк', 'отр', 'отс', 'рак', 'рао', 'рас', 'рат', 'рка', 'рко', 'ркс', 'ркт', 'роа', 'рок', 'рос', 'рот', 'рса', 'рск', 'рсо', 'рст', 'рта', 'ртк', 'рто', 'ртс', 'сак', 'сао', 'сар', 'сат', 'ска', 'ско', 'скр', 'скт', 'соа', 'сок', 'сор', 'сот', 'сра', 'срк', 'сро', 'срт', 'ста', 'стк', 'сто', 'стр', 'так', 'тао', 'тар', 'тас', 'тка', 'тко', 'ткр', 'ткс', 'тоа', 'ток', 'тор', 'тос', 'тра', 'трк', 'тро', 'трс', 'тса', 'тск', 'тсо', 'тср']\n"
     ]
    }
   ],
   "source": [
    "#Задача 3\n",
    "from itertools import permutations\n",
    "\n",
    "\n",
    "def get_permutations(s: str, k:int):\n",
    "    return sorted([''.join(i) for i in (list(permutations(s, k)))])\n",
    "\n",
    "\n",
    "test_input_string = 'строка'\n",
    "\n",
    "print(get_permutations(input(), 3))\n"
   ]
  },
  {
   "cell_type": "code",
   "execution_count": null,
   "metadata": {},
   "outputs": [
    {
     "name": "stdout",
     "output_type": "stream",
     "text": [
      "['ст', 'ср', 'со', 'ск', 'са', 'тр', 'то', 'тк', 'та', 'ро', 'рк', 'ра', 'ок', 'оа', 'ка', 'стр', 'сто', 'стк', 'ста', 'сро', 'срк', 'сра', 'сок', 'соа', 'ска', 'тро', 'трк', 'тра', 'ток', 'тоа', 'тка', 'рок', 'роа', 'рка', 'ока']\n"
     ]
    }
   ],
   "source": [
    "#Задача 4\n",
    "\n",
    "from itertools import combinations\n",
    "\n",
    "\n",
    "def get_combinations(s: str, k:int):\n",
    "    res = []\n",
    "\n",
    "    for i in range(2, k+1):\n",
    "        res += [''.join(i) for i in combinations(s, i)]\n",
    "\n",
    "    return res\n",
    "\n",
    "\n",
    "test_input_string = 'строка'\n",
    "\n",
    "print(get_combinations(input(), 3))\n"
   ]
  },
  {
   "cell_type": "code",
   "execution_count": 14,
   "metadata": {},
   "outputs": [
    {
     "name": "stdout",
     "output_type": "stream",
     "text": [
      "[{'name': 'Ivan', 'age': 21}, {'name': 'Lolita', 'age': 25}, {'name': 'Mark', 'age': 32}]\n",
      "[{'name': 'Mark', 'age': 32}, {'name': 'Lolita', 'age': 25}, {'name': 'Ivan', 'age': 21}]\n"
     ]
    }
   ],
   "source": [
    "#Задача 5\n",
    "\n",
    "from functools import partial\n",
    "\n",
    "users = [{'name': 'Ivan', 'age': 21}, {'name': 'Mark', 'age': 32}, {'name': 'Lolita', 'age': 25}]\n",
    "\n",
    "\n",
    "def _sort_users_by_age(user_list: list, reverse: bool):\n",
    "    return sorted(user_list, reverse=reverse, key=lambda x: x.get('age'))\n",
    "\n",
    "\n",
    "sort_ascend = partial(_sort_users_by_age, reverse = False)  #сортировка по увеличению возраста\n",
    "sort_descend = partial(_sort_users_by_age, reverse = True)  #сортировка по убыванию возраста\n",
    "\n",
    "\n",
    "\n",
    "print(sort_ascend(users))\n",
    "print(sort_descend(users))"
   ]
  }
 ],
 "metadata": {
  "kernelspec": {
   "display_name": ".venv",
   "language": "python",
   "name": "python3"
  },
  "language_info": {
   "codemirror_mode": {
    "name": "ipython",
    "version": 3
   },
   "file_extension": ".py",
   "mimetype": "text/x-python",
   "name": "python",
   "nbconvert_exporter": "python",
   "pygments_lexer": "ipython3",
   "version": "3.9.1"
  }
 },
 "nbformat": 4,
 "nbformat_minor": 2
}
